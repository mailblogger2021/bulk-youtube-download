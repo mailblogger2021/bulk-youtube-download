{
 "cells": [
  {
   "cell_type": "code",
   "execution_count": 4,
   "metadata": {},
   "outputs": [],
   "source": [
    "from selenium import webdriver\n",
    "from selenium.webdriver.common.by import By\n",
    "from csv import DictReader\n",
    "import json"
   ]
  },
  {
   "cell_type": "code",
   "execution_count": null,
   "metadata": {},
   "outputs": [],
   "source": [
    "driver = webdriver.Chrome()\n",
    "driver.get(\"https://www.youtube.com/\")\n",
    "# driver.get(\"https://mail.google.com\")\n",
    "\n",
    "def get_cookies_values(file):\n",
    "    with open(file, encoding='utf-8--sig') as f:\n",
    "        dict_reader = DictReader(f)\n",
    "        list_of_dicts = list(dict_reader)\n",
    "    return list_of_dicts\n",
    "\n",
    "cookies = get_cookies_values(\"youtube.com_cookies.csv\")\n",
    "\n",
    "for i in cookies:\n",
    "    dict = {\"name\":i['name'], \"value\":i['value']}\n",
    "    print(dict)\n",
    "    driver.add_cookie(i)\n",
    "\n",
    "driver.refresh()"
   ]
  },
  {
   "cell_type": "code",
   "execution_count": null,
   "metadata": {},
   "outputs": [],
   "source": [
    "cookies[:2]"
   ]
  },
  {
   "cell_type": "code",
   "execution_count": 10,
   "metadata": {},
   "outputs": [],
   "source": [
    "file_name = \"mail_blogger_2000_cookies.json\"\n",
    "\n",
    "with open(file_name, 'r') as file:\n",
    "    data = json.load(file)\n"
   ]
  },
  {
   "cell_type": "code",
   "execution_count": 11,
   "metadata": {},
   "outputs": [
    {
     "data": {
      "text/plain": [
       "[{'name': '__Secure-1PAPISID',\n",
       "  'value': 'QtNOsva8aWZfIPXK/AWXx95gIdMh9OXZMg',\n",
       "  'domain': '.youtube.com',\n",
       "  'hostOnly': False,\n",
       "  'path': '/',\n",
       "  'secure': True,\n",
       "  'httpOnly': False,\n",
       "  'sameSite': 'no_restriction',\n",
       "  'session': False,\n",
       "  'firstPartyDomain': '',\n",
       "  'partitionKey': None,\n",
       "  'expirationDate': 1771250657,\n",
       "  'storeId': 'firefox-default',\n",
       "  'id': 1}]"
      ]
     },
     "execution_count": 11,
     "metadata": {},
     "output_type": "execute_result"
    }
   ],
   "source": [
    "data[:1]"
   ]
  },
  {
   "cell_type": "code",
   "execution_count": 12,
   "metadata": {},
   "outputs": [],
   "source": [
    "driver = webdriver.Chrome()\n",
    "driver.maximize_window()\n",
    "driver.get(\"https://www.youtube.com/\")\n",
    "# driver.get(\"https://mail.google.com\")\n",
    "\n",
    "for i in data:\n",
    "    dict = {'name':i['name'], 'value':i['value'], 'domain':i['domain']}\n",
    "    # print(dict)\n",
    "    driver.add_cookie(dict)\n",
    "\n",
    "driver.refresh()\n",
    "# driver.get(\"https://studio.youtube.com/channel/UCwZWO3BdESVbjYblxQYDuVA\")"
   ]
  },
  {
   "cell_type": "code",
   "execution_count": null,
   "metadata": {},
   "outputs": [],
   "source": [
    "# upload_icon = driver.find_element(by=By.ID, value=\"upload-icon\")"
   ]
  },
  {
   "cell_type": "code",
   "execution_count": null,
   "metadata": {},
   "outputs": [],
   "source": []
  }
 ],
 "metadata": {
  "kernelspec": {
   "display_name": ".venv",
   "language": "python",
   "name": "python3"
  },
  "language_info": {
   "codemirror_mode": {
    "name": "ipython",
    "version": 3
   },
   "file_extension": ".py",
   "mimetype": "text/x-python",
   "name": "python",
   "nbconvert_exporter": "python",
   "pygments_lexer": "ipython3",
   "version": "3.12.3"
  }
 },
 "nbformat": 4,
 "nbformat_minor": 2
}
